{
 "cells": [
  {
   "cell_type": "code",
   "execution_count": 3,
   "id": "77c92b1b",
   "metadata": {},
   "outputs": [],
   "source": [
    "pip install tkinter pandas xarray\n",
    "import tkinter as tk\n",
    "from tkinter import filedialog, messagebox\n",
    "import pandas as pd\n",
    "import xarray as xr\n",
    "\n",
    "def convert_nc_to_csv(nc_file, csv_file):\n",
    "    try:\n",
    "        ds = xr.open_dataset(nc_file)\n",
    "        df = ds.to_dataframe().reset_index()\n",
    "        df.to_csv(csv_file, index=False)\n",
    "        return True\n",
    "    except Exception as e:\n",
    "        print(f\"Error: {e}\")\n",
    "        return False\n",
    "\n",
    "def upload_file():\n",
    "    file_path = filedialog.askopenfilename(\n",
    "        filetypes=[(\"NetCDF files\", \"*.nc\"), (\"All files\", \"*.*\")]\n",
    "    )\n",
    "    if file_path:\n",
    "        save_file_path = filedialog.asksaveasfilename(\n",
    "            defaultextension=\".csv\", filetypes=[(\"CSV files\", \"*.csv\"), (\"All files\", \"*.*\")]\n",
    "        )\n",
    "        if save_file_path:\n",
    "            success = convert_nc_to_csv(file_path, save_file_path)\n",
    "            if success:\n",
    "                messagebox.showinfo(\"Success\", f\"File converted and saved to {save_file_path}\")\n",
    "            else:\n",
    "                messagebox.showerror(\"Error\", \"Failed to convert file\")\n",
    "\n",
    "def create_gui():\n",
    "    root = tk.Tk()\n",
    "    root.title(\"NC to CSV Converter\")\n",
    "\n",
    "    canvas = tk.Canvas(root, width=300, height=250)\n",
    "    canvas.pack()\n",
    "\n",
    "    upload_button = tk.Button(\n",
    "        root, text=\"Upload NC File\", command=upload_file, bg=\"blue\", fg=\"white\"\n",
    "    )\n",
    "    canvas.create_window(150, 125, window=upload_button)\n",
    "\n",
    "    root.mainloop()\n",
    "\n",
    "if __name__ == \"__main__\":\n",
    "    create_gui()\n"
   ]
  },
  {
   "cell_type": "code",
   "execution_count": null,
   "id": "c964407f",
   "metadata": {},
   "outputs": [],
   "source": []
  }
 ],
 "metadata": {
  "kernelspec": {
   "display_name": "Python 3 (ipykernel)",
   "language": "python",
   "name": "python3"
  },
  "language_info": {
   "codemirror_mode": {
    "name": "ipython",
    "version": 3
   },
   "file_extension": ".py",
   "mimetype": "text/x-python",
   "name": "python",
   "nbconvert_exporter": "python",
   "pygments_lexer": "ipython3",
   "version": "3.9.18"
  }
 },
 "nbformat": 4,
 "nbformat_minor": 5
}
